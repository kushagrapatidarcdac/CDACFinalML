{
 "cells": [
  {
   "cell_type": "code",
   "execution_count": null,
   "id": "0e948668",
   "metadata": {
    "vscode": {
     "languageId": "plaintext"
    }
   },
   "outputs": [],
   "source": [
    "import requests"
   ]
  },
  {
   "cell_type": "code",
   "execution_count": null,
   "id": "55d9cd11",
   "metadata": {
    "vscode": {
     "languageId": "plaintext"
    }
   },
   "outputs": [],
   "source": [
    "def get_predictor():\n",
    "    # Change this URL to match where your FastAPI is running\n",
    "    url = \"http://localhost:8000/predictor/\"\n",
    "\n",
    "    # Example payload matching your PredictMLInput model\n",
    "    payload = {\n",
    "        \"segment\": \"esports\",\n",
    "        \"game\": \"valorant\",\n",
    "        \"total_rounds\": 569,\n",
    "        \"kd\": 1.2\n",
    "    }\n",
    "    \n",
    "    return url, payload\n",
    "\n",
    "\n",
    "# Recommendation Example Usage\n",
    "def get_recommender():\n",
    "    url = \"http://localhost:8000/recommender/\"\n",
    "\n",
    "    \n",
    "    payload = {\n",
    "        \"segment\": \"esports\",\n",
    "        \"game\": \"csgo\",\n",
    "        \"player_name\": \"ZywOo\",\n",
    "        \"k\": 5\n",
    "    }\n",
    "\n",
    "    return url, payload"
   ]
  },
  {
   "cell_type": "code",
   "execution_count": null,
   "id": "baf0c509",
   "metadata": {
    "vscode": {
     "languageId": "plaintext"
    }
   },
   "outputs": [],
   "source": [
    "headers = {\n",
    "    \"Content-Type\": \"application/json\"\n",
    "}"
   ]
  },
  {
   "cell_type": "code",
   "execution_count": null,
   "id": "5cdf3569",
   "metadata": {
    "vscode": {
     "languageId": "plaintext"
    }
   },
   "outputs": [],
   "source": [
    "url, payload=get_predictor()\n",
    "\n",
    "response = requests.post(url, json=payload, headers=headers)\n",
    "print(\"Status code:\", response.status_code)\n",
    "print(\"Response JSON:\", response.json())"
   ]
  },
  {
   "cell_type": "code",
   "execution_count": null,
   "id": "cefbb8bc",
   "metadata": {
    "vscode": {
     "languageId": "plaintext"
    }
   },
   "outputs": [],
   "source": [
    "url, payload=get_recommender()\n",
    "\n",
    "response = requests.post(url, json=payload, headers=headers)\n",
    "print(\"Status code:\", response.status_code)\n",
    "print(\"Response JSON:\", response.json())"
   ]
  }
 ],
 "metadata": {
  "language_info": {
   "name": "python"
  }
 },
 "nbformat": 4,
 "nbformat_minor": 5
}
